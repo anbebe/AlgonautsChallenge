{
  "nbformat": 4,
  "nbformat_minor": 0,
  "metadata": {
    "colab": {
      "provenance": [],
      "authorship_tag": "ABX9TyMVFT3mU5Niz4+/YP6LfEyc",
      "include_colab_link": true
    },
    "kernelspec": {
      "name": "python3",
      "display_name": "Python 3"
    },
    "language_info": {
      "name": "python"
    }
  },
  "cells": [
    {
      "cell_type": "markdown",
      "metadata": {
        "id": "view-in-github",
        "colab_type": "text"
      },
      "source": [
        "<a href=\"https://colab.research.google.com/github/anbebe/AlgonautsChallenge/blob/main/Label_Preprocessing.ipynb\" target=\"_parent\"><img src=\"https://colab.research.google.com/assets/colab-badge.svg\" alt=\"Open In Colab\"/></a>"
      ]
    },
    {
      "cell_type": "code",
      "execution_count": 1,
      "metadata": {
        "colab": {
          "base_uri": "https://localhost:8080/"
        },
        "id": "Be3S07RiOdTM",
        "outputId": "7f082492-ce67-4704-cac3-dc5afa1d371b"
      },
      "outputs": [
        {
          "output_type": "stream",
          "name": "stdout",
          "text": [
            "Mounted at /content/drive/\n"
          ]
        }
      ],
      "source": [
        "import os\n",
        "import numpy as np\n",
        "import tensorflow as tf\n",
        "import tensorflow_datasets as tfds\n",
        "from google.colab import drive\n",
        "\n",
        "drive.mount('/content/drive/', force_remount=True)\n",
        "data_dir = '/content/drive/MyDrive/algonauts_2023_tutorial_data' \n",
        "parent_submission_dir = '/content/drive/MyDrive/algonauts_2023_challenge_submission' \n",
        "\n",
        "subj = 1\n",
        "\n",
        "class argObj:\n",
        "  def __init__(self, data_dir, parent_submission_dir, subj):\n",
        "    \n",
        "    self.subj = format(subj, '02')\n",
        "    self.data_dir = os.path.join(data_dir, 'subj'+self.subj)\n",
        "    self.parent_submission_dir = parent_submission_dir\n",
        "    self.subject_submission_dir = os.path.join(self.parent_submission_dir,\n",
        "        'subj'+self.subj)\n",
        "\n",
        "    # Create the submission directory if not existing\n",
        "    if not os.path.isdir(self.subject_submission_dir):\n",
        "        os.makedirs(self.subject_submission_dir)\n",
        "\n",
        "args = argObj(data_dir, parent_submission_dir, subj)\n",
        "\n",
        "train_img_dir  = os.path.join(args.data_dir, 'training_split', 'training_images')\n",
        "test_img_dir  = os.path.join(args.data_dir, 'test_split', 'test_images')\n",
        "\n",
        "img_height = 320\n",
        "img_width = 320\n",
        "batch_size = 100"
      ]
    },
    {
      "cell_type": "code",
      "source": [
        "train_ds = tf.keras.utils.image_dataset_from_directory(\n",
        "  train_img_dir,\n",
        "  color_mode=\"rgb\",\n",
        "  labels=None,\n",
        "  shuffle=False,\n",
        "  seed=None,\n",
        "  image_size=(img_height, img_width),\n",
        "  batch_size=None)\n",
        "\n",
        "val_ds = tf.keras.utils.image_dataset_from_directory(\n",
        "  test_img_dir,\n",
        "  color_mode=\"rgb\",\n",
        "  labels=None,\n",
        "  shuffle=False,\n",
        "  seed=None,\n",
        "  image_size=(img_height, img_width),\n",
        "  batch_size=None)"
      ],
      "metadata": {
        "colab": {
          "base_uri": "https://localhost:8080/"
        },
        "id": "v5Q6ZMCpOhuW",
        "outputId": "4c4d0ba1-8d99-405b-e962-8a46d42d535c"
      },
      "execution_count": 18,
      "outputs": [
        {
          "output_type": "stream",
          "name": "stdout",
          "text": [
            "Found 9841 files belonging to 1 classes.\n",
            "Found 159 files belonging to 1 classes.\n"
          ]
        }
      ]
    },
    {
      "cell_type": "code",
      "source": [
        "fmri_dir = os.path.join(args.data_dir, 'training_split', 'training_fmri')\n",
        "lh_fmri = np.load(os.path.join(fmri_dir, 'lh_training_fmri.npy'))\n",
        "rh_fmri = np.load(os.path.join(fmri_dir, 'rh_training_fmri.npy'))"
      ],
      "metadata": {
        "id": "DOpPVORIOyA0"
      },
      "execution_count": 3,
      "outputs": []
    },
    {
      "cell_type": "code",
      "source": [
        "for element in train_ds:\n",
        "    print(\"image shape: \", element.shape)\n",
        "    break\n",
        "\n",
        "print(\"\\n\", \"After enumeration:\",\"\\n\")\n",
        "\n",
        "#Enumerate Dataset. This will be used to map the labels to the images\n",
        "en_train = train_ds.enumerate(start=1)\n",
        "\n",
        "for element in en_train:\n",
        "    print(\"image shape: \", element[1].shape)\n",
        "    print(\"the index: \", element[0])\n",
        "    print(\"tuple length: \", len(element))\n",
        "    break\n",
        "\n",
        "lh_fmri_tensor = tf.constant(lh_fmri)\n",
        "rh_fmri_tensor = tf.constant(rh_fmri)\n",
        "\n",
        "def add_fmri(indx,img):\n",
        "\n",
        "    index = int(indx)\n",
        "    img = img #320x320x3\n",
        "    \n",
        "    lh_fmri = tf.gather(lh_fmri_tensor, index)\n",
        "    rh_fmri = tf.gather(rh_fmri_tensor, index)\n",
        "\n",
        "    return img, lh_fmri, rh_fmri\n",
        "\n",
        "train_ds = en_train.map(add_fmri)"
      ],
      "metadata": {
        "colab": {
          "base_uri": "https://localhost:8080/"
        },
        "id": "ZVa6Q02HO1Ka",
        "outputId": "3dae1273-4eb8-46b0-ccd2-a8dbe49b5a73"
      },
      "execution_count": 19,
      "outputs": [
        {
          "output_type": "stream",
          "name": "stdout",
          "text": [
            "image shape:  (320, 320, 3)\n",
            "\n",
            " After enumeration: \n",
            "\n",
            "image shape:  (320, 320, 3)\n",
            "the index:  tf.Tensor(1, shape=(), dtype=int64)\n",
            "tuple length:  2\n"
          ]
        }
      ]
    },
    {
      "cell_type": "code",
      "source": [
        "for element in train_ds:\n",
        "    print(\"image shape: \", element[0].shape)\n",
        "    print(\"lh_fmri: \", element[1])\n",
        "    print(\"rh_fmri: \", element[2])\n",
        "    print(\"tuple length: \", len(element))\n",
        "    break"
      ],
      "metadata": {
        "colab": {
          "base_uri": "https://localhost:8080/"
        },
        "id": "AcB0DO8uTVKE",
        "outputId": "d0afd488-1aac-45de-e966-9535a33cb542"
      },
      "execution_count": 20,
      "outputs": [
        {
          "output_type": "stream",
          "name": "stdout",
          "text": [
            "image shape:  (320, 320, 3)\n",
            "lh_fmri:  tf.Tensor(\n",
            "[ 0.72242236 -0.2831422   0.92416    ...  1.1387796   1.1579975\n",
            "  1.3964182 ], shape=(19004,), dtype=float32)\n",
            "rh_fmri:  tf.Tensor(\n",
            "[ 0.5131692   0.98874855 -0.05418793 ...  1.4851211   1.6171584\n",
            "  1.6620398 ], shape=(20544,), dtype=float32)\n",
            "3\n"
          ]
        }
      ]
    }
  ]
}