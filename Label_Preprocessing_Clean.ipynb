{
  "nbformat": 4,
  "nbformat_minor": 0,
  "metadata": {
    "colab": {
      "provenance": [],
      "authorship_tag": "ABX9TyML/pu0FjyKIjguTWTOTCVc",
      "include_colab_link": true
    },
    "kernelspec": {
      "name": "python3",
      "display_name": "Python 3"
    },
    "language_info": {
      "name": "python"
    }
  },
  "cells": [
    {
      "cell_type": "markdown",
      "metadata": {
        "id": "view-in-github",
        "colab_type": "text"
      },
      "source": [
        "<a href=\"https://colab.research.google.com/github/anbebe/AlgonautsChallenge/blob/main/Label_Preprocessing_Clean.ipynb\" target=\"_parent\"><img src=\"https://colab.research.google.com/assets/colab-badge.svg\" alt=\"Open In Colab\"/></a>"
      ]
    },
    {
      "cell_type": "code",
      "execution_count": 1,
      "metadata": {
        "colab": {
          "base_uri": "https://localhost:8080/"
        },
        "id": "Be3S07RiOdTM",
        "outputId": "59a498c3-9c48-42c1-e7de-a3d67fe2259b"
      },
      "outputs": [
        {
          "output_type": "stream",
          "name": "stdout",
          "text": [
            "Mounted at /content/drive/\n"
          ]
        }
      ],
      "source": [
        "import os\n",
        "import numpy as np\n",
        "import tensorflow as tf\n",
        "import tensorflow_datasets as tfds\n",
        "from google.colab import drive\n",
        "\n",
        "drive.mount('/content/drive/', force_remount=True)\n",
        "data_dir = '/content/drive/MyDrive/algonauts_2023_tutorial_data' \n",
        "parent_submission_dir = '/content/drive/MyDrive/algonauts_2023_challenge_submission' \n",
        "\n",
        "subj = 1\n",
        "\n",
        "class argObj:\n",
        "  def __init__(self, data_dir, parent_submission_dir, subj):\n",
        "    \n",
        "    self.subj = format(subj, '02')\n",
        "    self.data_dir = os.path.join(data_dir, 'subj'+self.subj)\n",
        "    self.parent_submission_dir = parent_submission_dir\n",
        "    self.subject_submission_dir = os.path.join(self.parent_submission_dir,\n",
        "        'subj'+self.subj)\n",
        "\n",
        "    # Create the submission directory if not existing\n",
        "    if not os.path.isdir(self.subject_submission_dir):\n",
        "        os.makedirs(self.subject_submission_dir)\n",
        "\n",
        "args = argObj(data_dir, parent_submission_dir, subj)\n",
        "\n",
        "train_img_dir  = os.path.join(args.data_dir, 'training_split', 'training_images')\n",
        "test_img_dir  = os.path.join(args.data_dir, 'test_split', 'test_images')\n",
        "\n",
        "img_height = 320\n",
        "img_width = 320\n",
        "batch_size = 100"
      ]
    },
    {
      "cell_type": "code",
      "source": [
        "train_ds = tf.keras.utils.image_dataset_from_directory(\n",
        "  train_img_dir,\n",
        "  color_mode=\"rgb\",\n",
        "  labels=None,\n",
        "  shuffle=False,\n",
        "  seed=None,\n",
        "  image_size=(img_height, img_width),\n",
        "  batch_size=None)\n",
        "\n",
        "val_ds = tf.keras.utils.image_dataset_from_directory(\n",
        "  test_img_dir,\n",
        "  color_mode=\"rgb\",\n",
        "  labels=None,\n",
        "  shuffle=False,\n",
        "  seed=None,\n",
        "  image_size=(img_height, img_width),\n",
        "  batch_size=None)"
      ],
      "metadata": {
        "colab": {
          "base_uri": "https://localhost:8080/"
        },
        "id": "v5Q6ZMCpOhuW",
        "outputId": "82a39557-30cf-4893-83c9-980040d835cb"
      },
      "execution_count": 13,
      "outputs": [
        {
          "output_type": "stream",
          "name": "stdout",
          "text": [
            "Found 9841 files belonging to 1 classes.\n",
            "Found 159 files belonging to 1 classes.\n"
          ]
        }
      ]
    },
    {
      "cell_type": "code",
      "source": [
        "fmri_dir = os.path.join(args.data_dir, 'training_split', 'training_fmri')\n",
        "lh_fmri = np.load(os.path.join(fmri_dir, 'lh_training_fmri.npy'))\n",
        "rh_fmri = np.load(os.path.join(fmri_dir, 'rh_training_fmri.npy'))"
      ],
      "metadata": {
        "id": "DOpPVORIOyA0"
      },
      "execution_count": 14,
      "outputs": []
    },
    {
      "cell_type": "code",
      "source": [
        "\"\"\"Relevantes:\n",
        "\n",
        "#Enumerate Dataset. This will be used to map the labels to the images\n",
        "train_ds = train_ds.enumerate(start=1)\n",
        "\n",
        "#Convert fMRI-data to tensors to make use of tensorflow functionality\n",
        "lh_fmri_tensor = tf.constant(lh_fmri)\n",
        "rh_fmri_tensor = tf.constant(rh_fmri)\n",
        "\n",
        "#delete unneeded fMRI-numpy-data \n",
        "del lh_fmri\n",
        "del rh_fmri\n",
        "\n",
        "#For each enumerated img in the dataset (tuple of shape (indx,img)), this function will map the respective fmri data to the image, using the enumeration as index for the fMRI tensor. Returns a tuple of shape (img,lh_fmri,rh_fmri)\n",
        "def add_fmri(indx,img):\n",
        "\n",
        "    index = int(indx)\n",
        "\n",
        "    #Get fMRI-data for the respective index\n",
        "    lh_fmri = tf.gather(lh_fmri_tensor, index)\n",
        "    rh_fmri = tf.gather(rh_fmri_tensor, index)\n",
        "\n",
        "    return img, lh_fmri, rh_fmri\n",
        "\n",
        "train_ds = train_ds.map(add_fmri)\n",
        "\n",
        "\"\"\""
      ],
      "metadata": {
        "id": "TP2zPAwrPoYN"
      },
      "execution_count": null,
      "outputs": []
    },
    {
      "cell_type": "code",
      "source": [
        "for element in train_ds:\n",
        "    print(\"image shape: \", element.shape)\n",
        "    break\n",
        "\n",
        "print(\"\\n\", \"After enumeration:\",\"\\n\")\n",
        "\n",
        "#Enumerate Dataset. This will be used to map the labels to the images\n",
        "train_ds = train_ds.enumerate(start=1)\n",
        "\n",
        "for element in train_ds:\n",
        "    print(\"image shape: \", element[1].shape)\n",
        "    print(\"the index: \", element[0])\n",
        "    print(\"tuple length: \", len(element))\n",
        "    break\n",
        "\n",
        "#Convert fmri-data to tensors to make use of tensorflow functionality\n",
        "lh_fmri_tensor = tf.constant(lh_fmri)\n",
        "rh_fmri_tensor = tf.constant(rh_fmri)\n",
        "\n",
        "#delete unneeded fmri-numpy-data \n",
        "del lh_fmri\n",
        "del rh_fmri\n",
        "\n",
        "def add_fmri(indx,img):\n",
        "\n",
        "    index = int(indx)\n",
        "    \n",
        "    #Get fMRI-data for the respective index\n",
        "    lh_fmri = tf.gather(lh_fmri_tensor, index)\n",
        "    rh_fmri = tf.gather(rh_fmri_tensor, index)\n",
        "\n",
        "    return img, lh_fmri, rh_fmri\n",
        "\n",
        "train_ds = train_ds.map(add_fmri)"
      ],
      "metadata": {
        "colab": {
          "base_uri": "https://localhost:8080/"
        },
        "id": "ZVa6Q02HO1Ka",
        "outputId": "a4e94cd5-038a-473d-82b7-c82acdddb8ac"
      },
      "execution_count": 15,
      "outputs": [
        {
          "output_type": "stream",
          "name": "stdout",
          "text": [
            "image shape:  (320, 320, 3)\n",
            "\n",
            " After enumeration: \n",
            "\n",
            "image shape:  (320, 320, 3)\n",
            "the index:  tf.Tensor(1, shape=(), dtype=int64)\n",
            "tuple length:  2\n"
          ]
        }
      ]
    },
    {
      "cell_type": "code",
      "source": [
        "for element in train_ds:\n",
        "    print(\"image shape: \", element[0].shape)\n",
        "    print(\"lh_fmri: \", element[1])\n",
        "    print(\"rh_fmri: \", element[2])\n",
        "    print(\"tuple length: \", len(element))\n",
        "    break"
      ],
      "metadata": {
        "colab": {
          "base_uri": "https://localhost:8080/"
        },
        "id": "AcB0DO8uTVKE",
        "outputId": "987a5602-e323-4a5d-a587-650a43e8425a"
      },
      "execution_count": 16,
      "outputs": [
        {
          "output_type": "stream",
          "name": "stdout",
          "text": [
            "image shape:  (320, 320, 3)\n",
            "lh_fmri:  tf.Tensor(\n",
            "[ 0.72242236 -0.2831422   0.92416    ...  1.1387796   1.1579975\n",
            "  1.3964182 ], shape=(19004,), dtype=float32)\n",
            "rh_fmri:  tf.Tensor(\n",
            "[ 0.5131692   0.98874855 -0.05418793 ...  1.4851211   1.6171584\n",
            "  1.6620398 ], shape=(20544,), dtype=float32)\n",
            "tuple length:  3\n"
          ]
        }
      ]
    }
  ]
}